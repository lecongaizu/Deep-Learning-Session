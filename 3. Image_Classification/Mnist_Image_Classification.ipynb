{
  "nbformat": 4,
  "nbformat_minor": 0,
  "metadata": {
    "colab": {
      "name": "Mnist Image Classification",
      "provenance": [],
      "collapsed_sections": [],
      "toc_visible": true
    },
    "kernelspec": {
      "name": "python3",
      "display_name": "Python 3"
    }
  },
  "cells": [
    {
      "cell_type": "markdown",
      "metadata": {
        "id": "vggGB8iChsYL",
        "colab_type": "text"
      },
      "source": [
        "# **MULTI-LAYER PERCEPTRON ON MNIST**\n",
        "In this session we will do our first classification job. we will use tensor flow as its known to be the ultimate production machine learning framework (unlike pytorch that is research oriented. we will try to classify the hand written numbers given by the mnist using a standard neural network of our own design. this network type is called dense layered network. this is because in every layer all the nodes are connected to the next layer nodes. it’s an interesting type yet it is not always the best architecture.\n"
      ]
    },
    {
      "cell_type": "code",
      "metadata": {
        "id": "WKLfkhGye7yu",
        "colab_type": "code",
        "colab": {
          "base_uri": "https://localhost:8080/",
          "height": 35
        },
        "outputId": "55eb0491-3004-41a7-cee2-92e7738f7b0f"
      },
      "source": [
        "import numpy as np\n",
        "import tensorflow as tf\n",
        "import matplotlib.pyplot as plt\n",
        "import matplotlib.cm as cm\n",
        "from tensorflow.examples.tutorials.mnist import input_data\n",
        "import random\n",
        "%matplotlib inline  \n",
        "tf.global_variables_initializer\n",
        "print (\"PACKAGES LOADED\")"
      ],
      "execution_count": null,
      "outputs": [
        {
          "output_type": "stream",
          "text": [
            "PACKAGES LOADED\n"
          ],
          "name": "stdout"
        }
      ]
    },
    {
      "cell_type": "markdown",
      "metadata": {
        "id": "H6ejZM_Wh0ob",
        "colab_type": "text"
      },
      "source": [
        "# **LOAD MNIST**\n",
        "The MNIST database (Modified National Institute of Standards and Technology database) is a large database of handwritten digits that is commonly used for training various image processing systems. The database is also widely used for training and testing in the field of machine learning. Next we will download it and save it into our drive. Remember, not all datasets allow this smooth download and just like our previous exercise, we probably have to build our own dataset and feed it manually.\n"
      ]
    },
    {
      "cell_type": "code",
      "metadata": {
        "id": "Gtk2V_PrgfSz",
        "colab_type": "code",
        "colab": {
          "base_uri": "https://localhost:8080/",
          "height": 91
        },
        "outputId": "f6ae2678-3819-4020-ba8b-03b0617ea0f2"
      },
      "source": [
        "mnist = input_data.read_data_sets('data/', one_hot=True)\n"
      ],
      "execution_count": null,
      "outputs": [
        {
          "output_type": "stream",
          "text": [
            "Extracting data/train-images-idx3-ubyte.gz\n",
            "Extracting data/train-labels-idx1-ubyte.gz\n",
            "Extracting data/t10k-images-idx3-ubyte.gz\n",
            "Extracting data/t10k-labels-idx1-ubyte.gz\n"
          ],
          "name": "stdout"
        }
      ]
    },
    {
      "cell_type": "markdown",
      "metadata": {
        "id": "e-znWcu8qp0h",
        "colab_type": "text"
      },
      "source": [
        "The data looks like this: given how many training samples and testing samples and validation samples."
      ]
    },
    {
      "cell_type": "code",
      "metadata": {
        "id": "4_Z270JPiM8i",
        "colab_type": "code",
        "colab": {
          "base_uri": "https://localhost:8080/",
          "height": 357
        },
        "outputId": "eb6482ca-ba3b-4420-8d05-5f9dccbbf307"
      },
      "source": [
        "print (\"Training Samples:\", mnist.train.num_examples)\n",
        "print (\"Testing Samples:\", mnist.test.num_examples)\n",
        "print (\"Validation Samples:\", mnist.validation.num_examples)\n",
        "\n",
        "print (\"I wills how image for number:\", np.argmax(mnist.test.labels[0]))\n",
        "\n",
        "plt.imshow(mnist.test.images[0].reshape(28, 28), cmap = cm.Greys_r)"
      ],
      "execution_count": null,
      "outputs": [
        {
          "output_type": "stream",
          "text": [
            "Training Samples: 55000\n",
            "Testing Samples: 10000\n",
            "Validation Samples: 5000\n",
            "I wills how image for number: 7\n"
          ],
          "name": "stdout"
        },
        {
          "output_type": "execute_result",
          "data": {
            "text/plain": [
              "<matplotlib.image.AxesImage at 0x7f117d3a5240>"
            ]
          },
          "metadata": {
            "tags": []
          },
          "execution_count": 18
        },
        {
          "output_type": "display_data",
          "data": {
            "image/png": "[encoded data removed]",
            "text/plain": [
              "<Figure size 432x288 with 1 Axes>"
            ]
          },
          "metadata": {
            "tags": []
          }
        }
      ]
    },
    {
      "cell_type": "markdown",
      "metadata": {
        "id": "Im_YVt2sh6XD",
        "colab_type": "text"
      },
      "source": [
        "# **DEFINE MODEL**\n",
        "There are many ways to create a model, the  following way is very basic for illustration purposes. as researchers we wish to use it though because you have great access to all the network components. Other ways are more general and more efficient when it comes to standard tasks. our model consists of 2 hidden layers (first one is 256 nodes and the second is 128 nodes). Our input size is 784, can you guess why? its the multiplication of 28 by 28, every mnist picture size. Our output size is 10 because we have 10 digits (from zero to 9).\n",
        "\n",
        "Next we initialize the weights across the network randomly and set the bias. Every node in every activation is a function that looks like this:\n",
        "\n",
        "output  =  sum (weights * inputs) + bias\n",
        "\n"
      ]
    },
    {
      "cell_type": "code",
      "metadata": {
        "id": "EEWhlUn0gz07",
        "colab_type": "code",
        "colab": {
          "base_uri": "https://localhost:8080/",
          "height": 35
        },
        "outputId": "cd9f64b6-f2c1-4a8f-e809-cdd22532e9f3"
      },
      "source": [
        "# NETWORK TOPOLOGIES\n",
        "n_hidden_1 = 256 \n",
        "n_hidden_2 = 128 \n",
        "n_input    = 784 \n",
        "n_classes  = 10  \n",
        "\n",
        "# INPUTS AND OUTPUTS\n",
        "x = tf.placeholder(\"float\", [None, n_input])\n",
        "y = tf.placeholder(\"float\", [None, n_classes])\n",
        "\n",
        "# NETWORK PARAMETERS\n",
        "stddev = 0.1\n",
        "weights = {\n",
        "    'h1': tf.Variable(tf.random_normal([n_input, n_hidden_1], stddev=stddev)),\n",
        "    'h2': tf.Variable(tf.random_normal([n_hidden_1, n_hidden_2], stddev=stddev)),\n",
        "    'out': tf.Variable(tf.random_normal([n_hidden_2, n_classes], stddev=stddev))\n",
        "}\n",
        "biases = {\n",
        "    'b1': tf.Variable(tf.random_normal([n_hidden_1])),\n",
        "    'b2': tf.Variable(tf.random_normal([n_hidden_2])),\n",
        "    'out': tf.Variable(tf.random_normal([n_classes]))\n",
        "}\n",
        "print (\"NETWORK READY\")"
      ],
      "execution_count": null,
      "outputs": [
        {
          "output_type": "stream",
          "text": [
            "NETWORK READY\n"
          ],
          "name": "stdout"
        }
      ]
    },
    {
      "cell_type": "markdown",
      "metadata": {
        "id": "pToP8fd7h94T",
        "colab_type": "text"
      },
      "source": [
        "# **MLP AS A FUNCTION**\n",
        "After we created our model components we have to connect them together. this connection is done by simply giving the network input to the first layer (and al its nodes). The output of the first layer is later given to the second layer. Finally the second layer output is given to the last layer.\n",
        "the following code simply does the \"output = sum (weights * inputs) + bias\" we just described\n",
        "\n",
        "```\n",
        "# tf.add(tf.matmul(_X, _weights['h1']), _biases['b1'])\n",
        "```\n",
        "\n",
        "the sigmoid function is the activation function. There are many activation functions but what units them all is their steps, they have that edge that is used as discriminator between zero and one. it works as filter to represent whether the information being  given is important (so the value of that node will be close to one) or insignificant (so the value of that node will be close to zero)\n",
        "\n",
        "\n"
      ]
    },
    {
      "cell_type": "code",
      "metadata": {
        "id": "9uvJLv47g2Pz",
        "colab_type": "code",
        "colab": {}
      },
      "source": [
        "def multilayer_perceptron(_X, _weights, _biases):\n",
        "    layer_1 = tf.nn.sigmoid(tf.add(tf.matmul(_X, _weights['h1']), _biases['b1'])) \n",
        "    layer_2 = tf.nn.sigmoid(tf.add(tf.matmul(layer_1, _weights['h2']), _biases['b2']))\n",
        "    return (tf.matmul(layer_2, _weights['out']) + _biases['out'])"
      ],
      "execution_count": null,
      "outputs": []
    },
    {
      "cell_type": "markdown",
      "metadata": {
        "id": "iX1WUECah9NL",
        "colab_type": "text"
      },
      "source": [
        "# **DEFINE FUNCTIONS**\n",
        "After we connected the pieces, the last step before we start the learning is to make sure it will be optimized. by optimization we mean that the network must try to minimize the distance between the desired output and the network real output. This is done -as we illustrated in previous lessons - by the loss function, here we use the [softmax cross entropy](https://peterroelants.github.io/posts/cross-entropy-softmax/) which is very useful in classification tasks. One new component that can optimize the learning is called the optimizer. Its job is to keep searching for the lowest minimum solution that helps the network reaches its purpose. The optimizers are very important. Most famous ones are gradient decent, Adam and SGD.\n",
        "\n",
        "\n",
        "\n",
        "\n",
        "\n"
      ]
    },
    {
      "cell_type": "code",
      "metadata": {
        "id": "d4ooLxgMg5QL",
        "colab_type": "code",
        "colab": {
          "base_uri": "https://localhost:8080/",
          "height": 35
        },
        "outputId": "74ec1bf1-7754-4e90-fadd-2c85bf809fd2"
      },
      "source": [
        "# PREDICTION\n",
        "pred = multilayer_perceptron(x, weights, biases)\n",
        "\n",
        "# LOSS AND OPTIMIZER\n",
        "cost = tf.reduce_mean(tf.nn.softmax_cross_entropy_with_logits(logits = pred, labels=y)) \n",
        "# optm = tf.train.GradientDescentOptimizer(learning_rate=0.001).minimize(cost) \n",
        "optm = tf.train.AdamOptimizer(learning_rate=0.001).minimize(cost) \n",
        "corr = tf.equal(tf.argmax(pred, 1), tf.argmax(y, 1))    \n",
        "accr = tf.reduce_mean(tf.cast(corr, \"float\"))\n",
        "\n",
        "# INITIALIZER\n",
        "init = tf.initialize_all_variables()\n",
        "print (\"FUNCTIONS READY\")"
      ],
      "execution_count": null,
      "outputs": [
        {
          "output_type": "stream",
          "text": [
            "FUNCTIONS READY\n"
          ],
          "name": "stdout"
        }
      ]
    },
    {
      "cell_type": "markdown",
      "metadata": {
        "id": "bg8pAc4piFOC",
        "colab_type": "text"
      },
      "source": [
        "# **RUN**\n",
        "Here we run our model for certain number of epochs and give the network certain number of images (known as the batch size) the bigger the number the more the network will learn. But be careful not to overwhelm the network with data as it may get choked. This will cause what is known as overfitting.\n"
      ]
    },
    {
      "cell_type": "code",
      "metadata": {
        "id": "kic7FujnhliT",
        "colab_type": "code",
        "colab": {
          "base_uri": "https://localhost:8080/",
          "height": 1000
        },
        "outputId": "8ea5213d-6c3f-4c8e-95be-43db08b4e301"
      },
      "source": [
        "# PARAMETERS\n",
        "training_epochs = 20\n",
        "batch_size      = 100\n",
        "display_step    = 1\n",
        "# LAUNCH THE GRAPH\n",
        "sess = tf.Session()\n",
        "sess.run(init)\n",
        "step=[]\n",
        "TrainingaccuracySteps = []\n",
        "TestaccuracySteps = []\n",
        "LossSteps = []\n",
        "\n",
        "# OPTIMIZE\n",
        "for epoch in range(training_epochs):\n",
        "    avg_cost = 0.\n",
        "    total_batch = int(mnist.train.num_examples/batch_size)\n",
        "    # ITERATION\n",
        "    for i in range(total_batch):\n",
        "        batch_xs, batch_ys = mnist.train.next_batch(batch_size)\n",
        "        feeds = {x: batch_xs, y: batch_ys}\n",
        "        sess.run(optm, feed_dict=feeds)\n",
        "        avg_cost += sess.run(cost, feed_dict=feeds)\n",
        "    avg_cost = avg_cost / total_batch\n",
        "    # DISPLAY\n",
        "    if (epoch+1) % display_step == 0:\n",
        "        print (\"Epoch: %03d/%03d cost: %.9f\" % (epoch, training_epochs, avg_cost))\n",
        "        LossSteps.append(avg_cost)\n",
        "        feeds = {x: batch_xs, y: batch_ys}\n",
        "        train_acc = sess.run(accr, feed_dict=feeds)\n",
        "        TrainingaccuracySteps.append(train_acc)\n",
        "        print (\"TRAIN ACCURACY: %.3f\" % (train_acc))\n",
        "        feeds = {x: mnist.test.images, y: mnist.test.labels}\n",
        "        test_acc = sess.run(accr, feed_dict=feeds)\n",
        "        TestaccuracySteps.append(test_acc)\n",
        "        print (\"TEST ACCURACY: %.3f\" % (test_acc))\n",
        "        step.append(epoch)\n",
        "        # we can save the model per epoch, but lets not waste your valuable space\n",
        "        #save_path = saver.save(sess, \"/tmp/model.ckpt\")\n",
        "        #print(\"Model saved in path: %s\" % save_path)\n",
        "saver = tf.train.Saver()\n",
        "save_path = saver.save(sess, \"/data/model.ckpt\")\n",
        "print(\"Model saved in path: %s\" % save_path)\n",
        "\n",
        "plt.subplot(2, 1, 1)\n",
        "plt.plot(step,TestaccuracySteps, label='Testing Accuracy')\n",
        "plt.plot(step,TrainingaccuracySteps, label='Testing Accuracy')\n",
        "plt.title(r\"Accuracy\")\n",
        "\n",
        "\n",
        "plt.subplot(2, 1, 2)\n",
        "plt.plot(step,LossSteps, label='Network Loss')\n",
        "plt.title(r\"Loss\")\n",
        "\n",
        "\n",
        "plt.tight_layout() \n",
        "print (\"OPTIMIZATION FINISHED\")"
      ],
      "execution_count": null,
      "outputs": [
        {
          "output_type": "stream",
          "text": [
            "Epoch: 000/020 cost: 0.584828514\n",
            "TRAIN ACCURACY: 0.920\n",
            "TEST ACCURACY: 0.927\n",
            "Epoch: 001/020 cost: 0.216115549\n",
            "TRAIN ACCURACY: 0.970\n",
            "TEST ACCURACY: 0.944\n",
            "Epoch: 002/020 cost: 0.157479076\n",
            "TRAIN ACCURACY: 0.960\n",
            "TEST ACCURACY: 0.953\n",
            "Epoch: 003/020 cost: 0.119296094\n",
            "TRAIN ACCURACY: 1.000\n",
            "TEST ACCURACY: 0.965\n",
            "Epoch: 004/020 cost: 0.093262386\n",
            "TRAIN ACCURACY: 0.960\n",
            "TEST ACCURACY: 0.970\n",
            "Epoch: 005/020 cost: 0.073410725\n",
            "TRAIN ACCURACY: 0.970\n",
            "TEST ACCURACY: 0.972\n",
            "Epoch: 006/020 cost: 0.058169362\n",
            "TRAIN ACCURACY: 0.980\n",
            "TEST ACCURACY: 0.974\n",
            "Epoch: 007/020 cost: 0.046974177\n",
            "TRAIN ACCURACY: 0.990\n",
            "TEST ACCURACY: 0.976\n",
            "Epoch: 008/020 cost: 0.036701201\n",
            "TRAIN ACCURACY: 0.990\n",
            "TEST ACCURACY: 0.976\n",
            "Epoch: 009/020 cost: 0.029243411\n",
            "TRAIN ACCURACY: 1.000\n",
            "TEST ACCURACY: 0.979\n",
            "Epoch: 010/020 cost: 0.023226159\n",
            "TRAIN ACCURACY: 1.000\n",
            "TEST ACCURACY: 0.980\n",
            "Epoch: 011/020 cost: 0.017626688\n",
            "TRAIN ACCURACY: 0.990\n",
            "TEST ACCURACY: 0.979\n",
            "Epoch: 012/020 cost: 0.013993027\n",
            "TRAIN ACCURACY: 1.000\n",
            "TEST ACCURACY: 0.980\n",
            "Epoch: 013/020 cost: 0.011700630\n",
            "TRAIN ACCURACY: 1.000\n",
            "TEST ACCURACY: 0.981\n",
            "Epoch: 014/020 cost: 0.008397054\n",
            "TRAIN ACCURACY: 1.000\n",
            "TEST ACCURACY: 0.979\n",
            "Epoch: 015/020 cost: 0.006322815\n",
            "TRAIN ACCURACY: 1.000\n",
            "TEST ACCURACY: 0.980\n",
            "Epoch: 016/020 cost: 0.005051572\n",
            "TRAIN ACCURACY: 1.000\n",
            "TEST ACCURACY: 0.980\n",
            "Epoch: 017/020 cost: 0.003902514\n",
            "TRAIN ACCURACY: 1.000\n",
            "TEST ACCURACY: 0.981\n",
            "Epoch: 018/020 cost: 0.003657544\n",
            "TRAIN ACCURACY: 1.000\n",
            "TEST ACCURACY: 0.979\n",
            "Epoch: 019/020 cost: 0.002898055\n",
            "TRAIN ACCURACY: 1.000\n",
            "TEST ACCURACY: 0.981\n",
            "Model saved in path: /data/model.ckpt\n",
            "OPTIMIZATION FINISHED\n"
          ],
          "name": "stdout"
        },
        {
          "output_type": "display_data",
          "data": {
            "image/png": "[encoded data removed]",
            "text/plain": [
              "<Figure size 432x288 with 2 Axes>"
            ]
          },
          "metadata": {
            "tags": []
          }
        }
      ]
    },
    {
      "cell_type": "markdown",
      "metadata": {
        "id": "zpiLJgKFvmTJ",
        "colab_type": "text"
      },
      "source": [
        "At the end we plot our results, the loss function must reach zero at some point as it describes how far the network output to the desired output is. And the accuracy describes how many correct predictions the network does while it’s going through the training.\n",
        "After every training the network must do testing on data that was never used before. This will ensure our learning is always challenging and unbiased."
      ]
    },
    {
      "cell_type": "markdown",
      "metadata": {
        "id": "YuE3eOnizDzI",
        "colab_type": "text"
      },
      "source": [
        "# **Restoring and using the model**\n",
        "\n",
        "after we finished our training we can use our model to detect hand written digits in the wild or possibly reuse it again to retrain a better model."
      ]
    },
    {
      "cell_type": "code",
      "metadata": {
        "id": "JSOLuE4Ty75x",
        "colab_type": "code",
        "colab": {
          "base_uri": "https://localhost:8080/",
          "height": 339
        },
        "outputId": "bab8a3e5-ef6b-4be0-99a0-bb2f95b586c7"
      },
      "source": [
        "saver.restore(sess, \"/data/model.ckpt\")\n",
        "print(\"Model restored.\")\n",
        "# lets pick a random number \n",
        "testIx = random.randint(0,mnist.test.num_examples-1)\n",
        "print (\"What is the number in this picture?\")\n",
        "plt.imshow(mnist.test.images[testIx].reshape(28, 28), cmap = cm.Greys_r)\n",
        "feeds = {x: [mnist.test.images[testIx]], y: [mnist.test.labels[testIx]]}\n",
        "test_acc = sess.run(pred, feed_dict=feeds)\n",
        "print (\"I think it is:\", np.argmax(test_acc), \", Am i right?\")\n"
      ],
      "execution_count": null,
      "outputs": [
        {
          "output_type": "stream",
          "text": [
            "INFO:tensorflow:Restoring parameters from /data/model.ckpt\n",
            "Model restored.\n",
            "What is the number in this picture?\n",
            "I think it is: 6 , Am i right?\n"
          ],
          "name": "stdout"
        },
        {
          "output_type": "display_data",
          "data": {
            "image/png": "[encoded data removed]",
            "text/plain": [
              "<Figure size 432x288 with 1 Axes>"
            ]
          },
          "metadata": {
            "tags": []
          }
        }
      ]
    }
  ]
}